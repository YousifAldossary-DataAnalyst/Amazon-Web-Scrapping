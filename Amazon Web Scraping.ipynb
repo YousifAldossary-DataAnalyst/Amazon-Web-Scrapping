{
 "cells": [
  {
   "cell_type": "code",
   "execution_count": 1,
   "id": "d6a0705c",
   "metadata": {},
   "outputs": [],
   "source": [
    "## import Library\n",
    "\n",
    "from bs4 import BeautifulSoup\n",
    "import requests\n",
    "import time\n",
    "import datetime\n",
    "\n",
    "import smtplib\n"
   ]
  },
  {
   "cell_type": "code",
   "execution_count": 2,
   "id": "4ebc5820",
   "metadata": {},
   "outputs": [
    {
     "name": "stdout",
     "output_type": "stream",
     "text": [
      "\n",
      "\n",
      "\n",
      "\n",
      "\n",
      "                   I'm Fine Graphic Novelty Sarcastic Movie Halloween Humor Zombie Funny T Shirt\n",
      "                  \n",
      "\n",
      "\n",
      "\n",
      "\n",
      "\n",
      "\n",
      "                    $18.99\n",
      "                   \n"
     ]
    }
   ],
   "source": [
    "### connect to the website\n",
    "\n",
    "## copy and past URL from original website and pull everything in that\n",
    "## webiste codes, which you can find manually from page inspect\n",
    "\n",
    "URL = 'https://www.amazon.com/dp/B015G0F8CI/ref=sspa_dk_detail_1?psc=1&pd_rd_i=B015G0F8CI&pd_rd_w=f9380&pf_rd_p=54ed5474-54a8-4c7f-a88a-45f748d18166&pd_rd_wg=Dp7ra&pf_rd_r=VSS00XXMGAJFQ5556R6M&pd_rd_r=ae0f74e8-05d5-4eb1-912e-79f8d7bc0794&spLa=ZW5jcnlwdGVkUXVhbGlmaWVyPUEyMDFONU80RzY4VFNVJmVuY3J5cHRlZElkPUEwMTEwNjE3MlcwV0MyQVMzOTdEUCZlbmNyeXB0ZWRBZElkPUEwOTA1OTA5TDNQU0NDSVkzRDQ1JndpZGdldE5hbWU9c3BfZGV0YWlsX3RoZW1hdGljJmFjdGlvbj1jbGlja1JlZGlyZWN0JmRvTm90TG9nQ2xpY2s9dHJ1ZQ=='\n",
    "\n",
    "## Headers is completely new to me but good to learn it \n",
    "## I also copied and pasted this.\n",
    "\n",
    "headers = {\"User-Agent\": \"Mozilla/5.0 (Windows NT 10.0; Win64; x64) AppleWebKit/537.36 (KHTML, like Gecko) Chrome/78.0.3904.108 Safari/537.36\", \"Accept-Encoding\":\"gzip, deflate\", \"Accept\":\"text/html,application/xhtml+xml,application/xml;q=0.9,*/*;q=0.8\", \"DNT\":\"1\",\"Connection\":\"close\", \"Upgrade-Insecure-Requests\":\"1\"}\n",
    "\n",
    "## Getting started\n",
    "\n",
    "page = requests.get(URL, headers = headers)\n",
    "\n",
    "soup1 = BeautifulSoup(page.content, \"html.parser\")\n",
    "#print(soup1)\n",
    "\n",
    "soup2 = BeautifulSoup(soup1.prettify(), \"html.parser\")\n",
    "\n",
    "## I found these manually from Chrome inspect\n",
    "\n",
    "title = soup2.find(id='title_feature_div').get_text()\n",
    "print(title)\n",
    "\n",
    "price = soup2.find(id='priceblock_ourprice').get_text()\n",
    "print(price)\n"
   ]
  },
  {
   "cell_type": "code",
   "execution_count": 3,
   "id": "c323fe06",
   "metadata": {},
   "outputs": [
    {
     "name": "stdout",
     "output_type": "stream",
     "text": [
      "product:\n",
      "I'm Fine Graphic Novelty Sarcastic Movie Halloween Humor Zombie Funny T Shirt\n",
      "18.99\n"
     ]
    }
   ],
   "source": [
    "## Clean up the data\n",
    "## clearly from the results above the script need to be well written\n",
    "\n",
    "price = price.strip()[1:]\n",
    "title = title.strip()\n",
    "\n",
    "print(\"product:\")\n",
    "print(title)\n",
    "print(price)"
   ]
  },
  {
   "cell_type": "code",
   "execution_count": 4,
   "id": "601c852f",
   "metadata": {},
   "outputs": [
    {
     "name": "stdout",
     "output_type": "stream",
     "text": [
      "2021-10-04\n"
     ]
    }
   ],
   "source": [
    "# Create a Timestamp for your output to track when data was collected\n",
    "\n",
    "import datetime\n",
    "\n",
    "today = datetime.date.today()\n",
    "\n",
    "print(today)"
   ]
  },
  {
   "cell_type": "code",
   "execution_count": 5,
   "id": "7111b0f4",
   "metadata": {},
   "outputs": [],
   "source": [
    "## Create CSV file by inserting headers and values\n",
    "\n",
    "import csv \n",
    "\n",
    "header = ['Title', 'Price', 'Date']\n",
    "data = [title, price, today]\n",
    "\n",
    "\n",
    "with open('AmazonWebScraperDataset.csv', 'w', newline='', encoding='UTF8') as f:\n",
    "    writer = csv.writer(f)\n",
    "    writer.writerow(header)\n",
    "    writer.writerow(data)\n",
    "    \n"
   ]
  },
  {
   "cell_type": "code",
   "execution_count": 6,
   "id": "d665b8ae",
   "metadata": {},
   "outputs": [
    {
     "name": "stdout",
     "output_type": "stream",
     "text": [
      "                                               Title  Price        Date\n",
      "0  I'm Fine Graphic Novelty Sarcastic Movie Hallo...  18.99  2021-10-04\n"
     ]
    }
   ],
   "source": [
    "## Save this as CSV \n",
    "\n",
    "import pandas as pd\n",
    "\n",
    "df = pd.read_csv(r'C:\\Users\\ym-d\\AmazonWebScraperDataset.csv')\n",
    "\n",
    "print(df)"
   ]
  },
  {
   "cell_type": "code",
   "execution_count": 7,
   "id": "c85be2a3",
   "metadata": {},
   "outputs": [],
   "source": [
    "## Now we are appending data to the csv\n",
    "## Newline is when we insert data it doesnt have space between csv\n",
    "\n",
    "with open('AmazonWebScraperDataset.csv', 'w', newline='', encoding='UTF8') as f:\n",
    "    writer = csv.writer(f)\n",
    "    writer.writerow(data)"
   ]
  },
  {
   "cell_type": "code",
   "execution_count": 8,
   "id": "6370de66",
   "metadata": {},
   "outputs": [],
   "source": [
    "## Combine all of the above code into one function \n",
    "## To automate this everyday on the back ground of the computer\n",
    "## to obtain a lower price than 15 USD.\n",
    "\n",
    "def find_price():\n",
    "    URL = 'https://www.amazon.com/dp/B015G0F8CI/ref=sspa_dk_detail_1?psc=1&pd_rd_i=B015G0F8CI&pd_rd_w=f9380&pf_rd_p=54ed5474-54a8-4c7f-a88a-45f748d18166&pd_rd_wg=Dp7ra&pf_rd_r=VSS00XXMGAJFQ5556R6M&pd_rd_r=ae0f74e8-05d5-4eb1-912e-79f8d7bc0794&spLa=ZW5jcnlwdGVkUXVhbGlmaWVyPUEyMDFONU80RzY4VFNVJmVuY3J5cHRlZElkPUEwMTEwNjE3MlcwV0MyQVMzOTdEUCZlbmNyeXB0ZWRBZElkPUEwOTA1OTA5TDNQU0NDSVkzRDQ1JndpZGdldE5hbWU9c3BfZGV0YWlsX3RoZW1hdGljJmFjdGlvbj1jbGlja1JlZGlyZWN0JmRvTm90TG9nQ2xpY2s9dHJ1ZQ=='\n",
    "\n",
    "    headers = {\"User-Agent\": \"Mozilla/5.0 (Windows NT 10.0; Win64; x64) AppleWebKit/537.36 (KHTML, like Gecko) Chrome/78.0.3904.108 Safari/537.36\", \"Accept-Encoding\":\"gzip, deflate\", \"Accept\":\"text/html,application/xhtml+xml,application/xml;q=0.9,*/*;q=0.8\", \"DNT\":\"1\",\"Connection\":\"close\", \"Upgrade-Insecure-Requests\":\"1\"}\n",
    "    \n",
    "    \n",
    "    page = requests.get(URL, headers = headers)\n",
    "\n",
    "    soup1 = BeautifulSoup(page.content, \"html.parser\")\n",
    "\n",
    "    soup2 = BeautifulSoup(soup1.prettify(), \"html.parser\")\n",
    "\n",
    "    title = soup2.find(id='title_feature_div').get_text()\n",
    "\n",
    "    price = soup2.find(id='priceblock_ourprice').get_text()\n",
    "    \n",
    "    price = price.strip()[1:]\n",
    "    \n",
    "    title = title.strip()\n",
    "\n",
    "    import datetime\n",
    "\n",
    "    today = datetime.date.today()\n",
    "    \n",
    "    import csv \n",
    "\n",
    "    header = ['Title', 'Price', 'Date']\n",
    "    data = [title, price, today]\n",
    "\n",
    "    with open('AmazonWebScraperDataset.csv', 'a+', newline='', encoding='UTF8') as f:\n",
    "        writer = csv.writer(f)\n",
    "        writer.writerow(data)"
   ]
  },
  {
   "cell_type": "code",
   "execution_count": null,
   "id": "cef73f85",
   "metadata": {},
   "outputs": [],
   "source": [
    "## Runs find_price after a set time and inputs data into your CSV\n",
    "## there is 86400 seconds in a day\n",
    "\n",
    "while(True):\n",
    "    find_price()\n",
    "    time.sleep(86400)"
   ]
  },
  {
   "cell_type": "code",
   "execution_count": null,
   "id": "cc837a7c",
   "metadata": {},
   "outputs": [],
   "source": [
    "import pandas as pd\n",
    "\n",
    "df = pd.read_csv(r'C:\\Users\\ym-d\\AmazonWebScraperDataset.csv')\n",
    "\n",
    "print(df)"
   ]
  },
  {
   "cell_type": "code",
   "execution_count": null,
   "id": "a92b78a1",
   "metadata": {},
   "outputs": [],
   "source": [
    "## sending yourself an email when a price hits below a certain level.\n",
    "\n",
    "def send_mail():\n",
    "    server = smtplib.SMTP_SSL('smtp.gmail.com',465)\n",
    "    server.ehlo()\n",
    "    server.login('invisible104@gmail.com','xxxxxxxxx')\n",
    "    \n",
    "    subject = \"The Shirt you want is below $15! Now is your chance to buy!\"\n",
    "    body = \"Hello there, Don't miss out. Now is your chance to pick up the shirt on your wishlist. Link here: https://www.amazon.com/Funny-Data-Systems-Business-Analyst/dp/B07FNW9FGJ/ref=sr_1_3?dchild=1&keywords=data+analyst+tshirt&qid=1626655184&sr=8-3\"\n",
    "   \n",
    "    msg = f\"Subject: {subject}\\n\\n{body}\"\n",
    "    \n",
    "    server.sendmail(\n",
    "        'invisible104@gmail.com',\n",
    "        msg\n",
    "     \n",
    "    )"
   ]
  },
  {
   "cell_type": "code",
   "execution_count": null,
   "id": "dae4f7c3",
   "metadata": {},
   "outputs": [],
   "source": []
  }
 ],
 "metadata": {
  "kernelspec": {
   "display_name": "Python 3",
   "language": "python",
   "name": "python3"
  },
  "language_info": {
   "codemirror_mode": {
    "name": "ipython",
    "version": 3
   },
   "file_extension": ".py",
   "mimetype": "text/x-python",
   "name": "python",
   "nbconvert_exporter": "python",
   "pygments_lexer": "ipython3",
   "version": "3.8.8"
  }
 },
 "nbformat": 4,
 "nbformat_minor": 5
}
